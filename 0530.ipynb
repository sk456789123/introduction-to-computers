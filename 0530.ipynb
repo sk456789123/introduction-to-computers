{
  "nbformat": 4,
  "nbformat_minor": 0,
  "metadata": {
    "colab": {
      "name": "0530.ipynb",
      "provenance": [],
      "authorship_tag": "ABX9TyMdt5peQDsK/S/oiTCVQHjN",
      "include_colab_link": true
    },
    "kernelspec": {
      "name": "python3",
      "display_name": "Python 3"
    },
    "language_info": {
      "name": "python"
    }
  },
  "cells": [
    {
      "cell_type": "markdown",
      "metadata": {
        "id": "view-in-github",
        "colab_type": "text"
      },
      "source": [
        "<a href=\"https://colab.research.google.com/github/sk456789123/introduction-to-computers/blob/main/0530.ipynb\" target=\"_parent\"><img src=\"https://colab.research.google.com/assets/colab-badge.svg\" alt=\"Open In Colab\"/></a>"
      ]
    },
    {
      "cell_type": "code",
      "execution_count": 15,
      "metadata": {
        "colab": {
          "base_uri": "https://localhost:8080/"
        },
        "id": "tJYXZwFUBGcM",
        "outputId": "9efc2c09-371a-42bd-94ee-c3e358932822"
      },
      "outputs": [
        {
          "output_type": "stream",
          "name": "stdout",
          "text": [
            "2*1= 2  2*2= 4  2*3= 6  2*4= 8  2*5=10  2*6=12  2*7=14  2*8=16  2*9=18  \n",
            "3*1= 3  3*2= 6  3*3= 9  3*4=12  3*5=15  3*6=18  3*7=21  3*8=24  3*9=27  \n",
            "4*1= 4  4*2= 8  4*3=12  4*4=16  4*5=20  4*6=24  4*7=28  4*8=32  4*9=36  \n",
            "5*1= 5  5*2=10  5*3=15  5*4=20  5*5=25  5*6=30  5*7=35  5*8=40  5*9=45  \n",
            "6*1= 6  6*2=12  6*3=18  6*4=24  6*5=30  6*6=36  6*7=42  6*8=48  6*9=54  \n",
            "7*1= 7  7*2=14  7*3=21  7*4=28  7*5=35  7*6=42  7*7=49  7*8=56  7*9=63  \n",
            "8*1= 8  8*2=16  8*3=24  8*4=32  8*5=40  8*6=48  8*7=56  8*8=64  8*9=72  \n",
            "9*1= 9  9*2=18  9*3=27  9*4=36  9*5=45  9*6=54  9*7=63  9*8=72  9*9=81  \n"
          ]
        }
      ],
      "source": [
        "for i  in range(2,10):\n",
        "  for j in range(1,10):\n",
        "    a=i*j\n",
        "    print('%d*%d=%2d  '%(i,j,a),end='')\n",
        "  print()"
      ]
    },
    {
      "cell_type": "code",
      "source": [
        "a=int(input('請輸入A的值'))\n",
        "b=int(input('請輸入B的值'))\n",
        "c=a*b\n",
        "for i in range(1,c+1):\n",
        "  if i%a==0 and i%b==0:\n",
        "    break\n",
        "print(a,'和',b,'最小公倍數',i)"
      ],
      "metadata": {
        "colab": {
          "base_uri": "https://localhost:8080/"
        },
        "id": "dp8Z73_oDher",
        "outputId": "99582741-1f46-4868-ddaa-20a3ea2f2c60"
      },
      "execution_count": 25,
      "outputs": [
        {
          "output_type": "stream",
          "name": "stdout",
          "text": [
            "請輸入A的值13\n",
            "請輸入B的值7\n",
            "13 和 7 最小公倍數 91\n"
          ]
        }
      ]
    },
    {
      "cell_type": "code",
      "source": [
        "a=int(input('請輸入正整數'))\n",
        "for i in range(1,a+1):\n",
        "  if i%5==0:\n",
        "    continue\n",
        "  print(i,end=' ')"
      ],
      "metadata": {
        "colab": {
          "base_uri": "https://localhost:8080/"
        },
        "id": "vi-PYH-uE15C",
        "outputId": "b606f2cf-b060-4c4b-e7d7-6c2852cfbb25"
      },
      "execution_count": 35,
      "outputs": [
        {
          "output_type": "stream",
          "name": "stdout",
          "text": [
            "請輸入正整數21\n",
            "1 2 3 4 6 7 8 9 11 12 13 14 16 17 18 19 21 "
          ]
        }
      ]
    },
    {
      "cell_type": "code",
      "source": [
        "a=b=0\n",
        "while(b<=10):\n",
        "  a+=b\n",
        "  b+=1\n",
        "print(a)"
      ],
      "metadata": {
        "colab": {
          "base_uri": "https://localhost:8080/"
        },
        "id": "ErlJVqaJF9iw",
        "outputId": "bf07a546-d952-4a64-aa60-493e73260564"
      },
      "execution_count": 37,
      "outputs": [
        {
          "output_type": "stream",
          "name": "stdout",
          "text": [
            "55\n"
          ]
        }
      ]
    },
    {
      "cell_type": "code",
      "source": [
        "a=b=0\n",
        "while b<=10:\n",
        "  a+=b\n",
        "  b+=1\n",
        "print(a)"
      ],
      "metadata": {
        "colab": {
          "base_uri": "https://localhost:8080/"
        },
        "id": "FPOu6kRYJARB",
        "outputId": "b82858cd-4841-426c-9b83-5fa42ccbaea4"
      },
      "execution_count": 38,
      "outputs": [
        {
          "output_type": "stream",
          "name": "stdout",
          "text": [
            "55\n"
          ]
        }
      ]
    },
    {
      "cell_type": "code",
      "source": [
        "a=int(input('請輸入正整數'))\n",
        "b=c=1\n",
        "while c<=a:\n",
        "  b*=c\n",
        "  c+=1\n",
        "print('%d!=%d'%(a,b))"
      ],
      "metadata": {
        "colab": {
          "base_uri": "https://localhost:8080/"
        },
        "id": "Vohzcf_fKtoP",
        "outputId": "dfd7ad2d-757c-4b94-b347-c99a84a4d32a"
      },
      "execution_count": 41,
      "outputs": [
        {
          "output_type": "stream",
          "name": "stdout",
          "text": [
            "請輸入正整數5\n",
            "5!=120\n"
          ]
        }
      ]
    },
    {
      "cell_type": "code",
      "source": [
        "b=0\n",
        "for j in range(1,51):\n",
        "  if j%2==0:\n",
        "    b+=j\n",
        "    continue\n",
        "print('0-50的偶數合為:',b)\n",
        "a=0\n",
        "for i in range(1,51):\n",
        "  if i%2!=0:\n",
        "    a+=i\n",
        "    continue\n",
        "print('0-50的奇數合為:',a)"
      ],
      "metadata": {
        "colab": {
          "base_uri": "https://localhost:8080/"
        },
        "id": "yEdih86dMR_n",
        "outputId": "3ff84f7e-5293-474e-d804-d15517064309"
      },
      "execution_count": 71,
      "outputs": [
        {
          "output_type": "stream",
          "name": "stdout",
          "text": [
            "0-50的偶數合為: 650\n",
            "0-50的奇數合為: 625\n"
          ]
        }
      ]
    },
    {
      "cell_type": "code",
      "source": [
        "a=int(input('請輸入正整數'))\n",
        "for i in range(1,a+1):\n",
        "  while i<=a:\n",
        "    i+=1\n",
        "    print('*',end=' ')\n",
        "  print(end='\\n')"
      ],
      "metadata": {
        "colab": {
          "base_uri": "https://localhost:8080/"
        },
        "id": "SkrFaBcjQIRF",
        "outputId": "d8601f8c-d688-49b3-83d9-d5c6b1979ffd"
      },
      "execution_count": 155,
      "outputs": [
        {
          "output_type": "stream",
          "name": "stdout",
          "text": [
            "請輸入正整數7\n",
            "* * * * * * * \n",
            "* * * * * * \n",
            "* * * * * \n",
            "* * * * \n",
            "* * * \n",
            "* * \n",
            "* \n"
          ]
        }
      ]
    },
    {
      "cell_type": "code",
      "source": [
        "a=0\n",
        "for i in range(1,101):\n",
        "  if i%3==0 or i%7==0:\n",
        "    a+=i\n",
        "print('數值1到100中,所有是3和7倍數的數之總和為:',a)"
      ],
      "metadata": {
        "colab": {
          "base_uri": "https://localhost:8080/"
        },
        "id": "5BhkOo2tahUh",
        "outputId": "2ccd698a-00fa-4cb6-f10e-d87e75c0c2b3"
      },
      "execution_count": 159,
      "outputs": [
        {
          "output_type": "stream",
          "name": "stdout",
          "text": [
            "數值1到100中,所有是3和7倍數的數之總和為: 2208\n"
          ]
        }
      ]
    },
    {
      "cell_type": "code",
      "source": [
        "b=0\n",
        "a=int(input('請輸入一個正整數'))\n",
        "for i in range(1,a+1):\n",
        "  if a%i==0:\n",
        "    b+=1\n",
        "    print(i,end=\" \")\n",
        "print(end='\\n')\n",
        "if b!=2:\n",
        "  print(a,'不是質數')\n",
        "else:\n",
        "  print(a,'是質數')"
      ],
      "metadata": {
        "colab": {
          "base_uri": "https://localhost:8080/"
        },
        "id": "rLaMsz_mbN9p",
        "outputId": "5227136d-2835-4343-add5-e23f2aba2e66"
      },
      "execution_count": 180,
      "outputs": [
        {
          "output_type": "stream",
          "name": "stdout",
          "text": [
            "請輸入一個正整數71\n",
            "1 71 \n",
            "71 是質數\n"
          ]
        }
      ]
    }
  ]
}