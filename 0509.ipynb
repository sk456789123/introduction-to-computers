{
  "nbformat": 4,
  "nbformat_minor": 0,
  "metadata": {
    "colab": {
      "name": "0509.ipynb",
      "provenance": [],
      "authorship_tag": "ABX9TyNbPAoRFGmNbG6zXaWSn9Gf",
      "include_colab_link": true
    },
    "kernelspec": {
      "name": "python3",
      "display_name": "Python 3"
    },
    "language_info": {
      "name": "python"
    }
  },
  "cells": [
    {
      "cell_type": "markdown",
      "metadata": {
        "id": "view-in-github",
        "colab_type": "text"
      },
      "source": [
        "<a href=\"https://colab.research.google.com/github/sk456789123/introduction-to-computers/blob/main/0509.ipynb\" target=\"_parent\"><img src=\"https://colab.research.google.com/assets/colab-badge.svg\" alt=\"Open In Colab\"/></a>"
      ]
    },
    {
      "cell_type": "code",
      "execution_count": 8,
      "metadata": {
        "colab": {
          "base_uri": "https://localhost:8080/"
        },
        "id": "-wTZaxFm8RTc",
        "outputId": "370d45aa-5dad-4885-e619-30fe1439f899"
      },
      "outputs": [
        {
          "output_type": "stream",
          "name": "stdout",
          "text": [
            "請輸入體溫36\n",
            "體溫正常\n"
          ]
        }
      ],
      "source": [
        "a=float(input('請輸入體溫'))\n",
        "if a>=37.5:\n",
        "  print('體溫過高')\n",
        "elif a>=37.4 and a<37.4:\n",
        "  print('體溫略高')\n",
        "elif a<=36.9 and a>=34:\n",
        "  print('體溫正常')\n",
        "else:\n",
        "  print('體溫異常,請重新量測!')\n"
      ]
    },
    {
      "cell_type": "code",
      "source": [
        "a=float(input('請輸入成績'))\n",
        "if a>=90:\n",
        "  print('A')\n",
        "elif a>=80 and a<90:\n",
        "  print('B')\n",
        "elif a>=70 and a<80:\n",
        "  print('C')\n",
        "elif a>=60 and a<70:\n",
        "  print('D')\n",
        "else:\n",
        "  print('E')"
      ],
      "metadata": {
        "colab": {
          "base_uri": "https://localhost:8080/"
        },
        "id": "Dw7rIEGK_ktC",
        "outputId": "1fc55899-181e-44e2-f0ad-14197f9feea0"
      },
      "execution_count": 18,
      "outputs": [
        {
          "output_type": "stream",
          "name": "stdout",
          "text": [
            "請輸入成績10\n",
            "E\n"
          ]
        }
      ]
    },
    {
      "cell_type": "code",
      "source": [
        "a=int(input('請輸入購物金額:'))\n",
        "if a>=100000:\n",
        "  print('八折後價格為:',0.8*a,'元\\n')\n",
        "elif a>=50000:\n",
        "  print('八五折後價格為:',0.85*a,'元\\n')\n",
        "elif a>=30000:\n",
        "  print('九折後價格為:',0.9*a,'元\\n')\n",
        "elif a>=10000:\n",
        "  print('九五折後價格為:',0.95*a,'元\\n')\n",
        "else:\n",
        "  print('沒打折',a,'元\\n')"
      ],
      "metadata": {
        "colab": {
          "base_uri": "https://localhost:8080/"
        },
        "id": "0aBt1xM_Ekw5",
        "outputId": "e0b3e86d-bc96-4bbe-beac-89907f36bc6c"
      },
      "execution_count": 33,
      "outputs": [
        {
          "output_type": "stream",
          "name": "stdout",
          "text": [
            "請輸入購物金額:50000\n",
            "八五折後價格為: 42500.0 元\n",
            "\n"
          ]
        }
      ]
    },
    {
      "cell_type": "code",
      "source": [
        "a=int(input('ㄑ請輸入月份'))\n",
        "if a>=3 and a<=5:\n",
        "  print(a,'月是春天')\n",
        "elif a>=6 and a<=8:\n",
        "  print(a,'月是夏天')\n",
        "elif a>=9 and a<=11:\n",
        "  print(a,'月是秋天')\n",
        "elif a==12 or a<3:\n",
        "  print(a,'月是冬天')\n",
        "else:\n",
        "  print('月份不再範圍內')"
      ],
      "metadata": {
        "colab": {
          "base_uri": "https://localhost:8080/"
        },
        "id": "GV0ZIF-sHC1P",
        "outputId": "66bc6c0b-670b-4a0d-9e0e-2ffe2b2d2b9b"
      },
      "execution_count": 49,
      "outputs": [
        {
          "output_type": "stream",
          "name": "stdout",
          "text": [
            "ㄑ請輸入月份1\n",
            "1 月是冬天\n"
          ]
        }
      ]
    },
    {
      "cell_type": "code",
      "source": [
        "a=int(input('請輸入收入淨額:'))\n",
        "if a>=2000000:\n",
        "  print('付稅金額:',0.3*a,'元')\n",
        "elif a>=1000000:\n",
        "  print('付稅金額:',0.21*a,'元')\n",
        "elif a>=600000:\n",
        "  print('付稅金額:',0.13*a,'元')\n",
        "elif a>=300000:\n",
        "  print('付稅金額:',0.06*a,'元')\n",
        "else:\n",
        "  print('付稅金額:0元')"
      ],
      "metadata": {
        "colab": {
          "base_uri": "https://localhost:8080/"
        },
        "id": "nlnv1bDzJpiC",
        "outputId": "40041f2e-f26a-4bce-f80d-d21bf9268f7e"
      },
      "execution_count": 51,
      "outputs": [
        {
          "output_type": "stream",
          "name": "stdout",
          "text": [
            "請輸入收入淨額:4545\n",
            "付稅金額:0元\n"
          ]
        }
      ]
    }
  ]
}