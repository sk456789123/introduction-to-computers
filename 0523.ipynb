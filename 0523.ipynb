{
  "nbformat": 4,
  "nbformat_minor": 0,
  "metadata": {
    "colab": {
      "name": "0523.ipynb",
      "provenance": [],
      "authorship_tag": "ABX9TyMeIwJ7zL5ayYXNSTQwAodw",
      "include_colab_link": true
    },
    "kernelspec": {
      "name": "python3",
      "display_name": "Python 3"
    },
    "language_info": {
      "name": "python"
    }
  },
  "cells": [
    {
      "cell_type": "markdown",
      "metadata": {
        "id": "view-in-github",
        "colab_type": "text"
      },
      "source": [
        "<a href=\"https://colab.research.google.com/github/sk456789123/introduction-to-computers/blob/main/0523.ipynb\" target=\"_parent\"><img src=\"https://colab.research.google.com/assets/colab-badge.svg\" alt=\"Open In Colab\"/></a>"
      ]
    },
    {
      "cell_type": "code",
      "execution_count": 4,
      "metadata": {
        "id": "yqcRcMeC_Jho",
        "colab": {
          "base_uri": "https://localhost:8080/"
        },
        "outputId": "04de9aae-f7bf-4fd3-bfaa-94e77860feaf"
      },
      "outputs": [
        {
          "output_type": "stream",
          "name": "stdout",
          "text": [
            "請輸入一個正整數10\n",
            "1到 10 的整數和為: 55\n"
          ]
        }
      ],
      "source": [
        "c=0\n",
        "a=int(input('請輸入一個正整數'))\n",
        "for b in range(a+1-a,a+1):\n",
        "  c=c+b\n",
        "print('1到',a,'的整數和為:',c)"
      ]
    },
    {
      "cell_type": "code",
      "source": [
        "a=0\n",
        "b=int(input('請輸入一個正整數'))\n",
        "for c in range(1,b+1):\n",
        "  a=a+c\n",
        "  print('1到',c,'的整數和為:',a)"
      ],
      "metadata": {
        "colab": {
          "base_uri": "https://localhost:8080/"
        },
        "id": "F0J9a8iSBBlC",
        "outputId": "5538c061-0b72-4c6b-909a-72160c06bf8e"
      },
      "execution_count": 2,
      "outputs": [
        {
          "output_type": "stream",
          "name": "stdout",
          "text": [
            "請輸入一個正整數10\n",
            "1到 1 的整數和為: 1\n",
            "1到 2 的整數和為: 3\n",
            "1到 3 的整數和為: 6\n",
            "1到 4 的整數和為: 10\n",
            "1到 5 的整數和為: 15\n",
            "1到 6 的整數和為: 21\n",
            "1到 7 的整數和為: 28\n",
            "1到 8 的整數和為: 36\n",
            "1到 9 的整數和為: 45\n",
            "1到 10 的整數和為: 55\n"
          ]
        }
      ]
    },
    {
      "cell_type": "code",
      "source": [
        "for j in range(1,5):\n",
        "  print(j)\n",
        "  for i in range(1,3):\n",
        "    k=i*j\n",
        "    print(j,'*',i,'=',k)"
      ],
      "metadata": {
        "colab": {
          "base_uri": "https://localhost:8080/"
        },
        "id": "L718pgqLCGNr",
        "outputId": "cdcd754b-8c98-4708-b89e-051c9660733d"
      },
      "execution_count": 13,
      "outputs": [
        {
          "output_type": "stream",
          "name": "stdout",
          "text": [
            "1\n",
            "1 * 1 = 1\n",
            "1 * 2 = 2\n",
            "2\n",
            "2 * 1 = 2\n",
            "2 * 2 = 4\n",
            "3\n",
            "3 * 1 = 3\n",
            "3 * 2 = 6\n",
            "4\n",
            "4 * 1 = 4\n",
            "4 * 2 = 8\n"
          ]
        }
      ]
    },
    {
      "cell_type": "code",
      "source": [
        "for j in range(1,6):\n",
        "  print(j)\n",
        "  for i in range(1,3):\n",
        "    k=i*j\n",
        "    print(j,'*',i,'=',k)"
      ],
      "metadata": {
        "colab": {
          "base_uri": "https://localhost:8080/"
        },
        "id": "t8w2Blf-D8jE",
        "outputId": "be482aef-d8d4-482e-a278-92d83f181cb4"
      },
      "execution_count": 12,
      "outputs": [
        {
          "output_type": "stream",
          "name": "stdout",
          "text": [
            "1\n",
            "1 * 1 = 1\n",
            "1 * 2 = 2\n",
            "2\n",
            "2 * 1 = 2\n",
            "2 * 2 = 4\n",
            "3\n",
            "3 * 1 = 3\n",
            "3 * 2 = 6\n",
            "4\n",
            "4 * 1 = 4\n",
            "4 * 2 = 8\n",
            "5\n",
            "5 * 1 = 5\n",
            "5 * 2 = 10\n"
          ]
        }
      ]
    },
    {
      "cell_type": "code",
      "source": [
        "for a in range(1,10):  \n",
        "  for b in range(1,10):\n",
        "    print(f'{a}*{b}={a*b}',end=\"\\t\")\n",
        "  print()"
      ],
      "metadata": {
        "colab": {
          "base_uri": "https://localhost:8080/"
        },
        "id": "b5ODtgTMESQ3",
        "outputId": "fdf66f32-58f4-4f9a-dd25-1d9936dd9c7f"
      },
      "execution_count": 14,
      "outputs": [
        {
          "output_type": "stream",
          "name": "stdout",
          "text": [
            "1*1=1\t1*2=2\t1*3=3\t1*4=4\t1*5=5\t1*6=6\t1*7=7\t1*8=8\t1*9=9\t\n",
            "2*1=2\t2*2=4\t2*3=6\t2*4=8\t2*5=10\t2*6=12\t2*7=14\t2*8=16\t2*9=18\t\n",
            "3*1=3\t3*2=6\t3*3=9\t3*4=12\t3*5=15\t3*6=18\t3*7=21\t3*8=24\t3*9=27\t\n",
            "4*1=4\t4*2=8\t4*3=12\t4*4=16\t4*5=20\t4*6=24\t4*7=28\t4*8=32\t4*9=36\t\n",
            "5*1=5\t5*2=10\t5*3=15\t5*4=20\t5*5=25\t5*6=30\t5*7=35\t5*8=40\t5*9=45\t\n",
            "6*1=6\t6*2=12\t6*3=18\t6*4=24\t6*5=30\t6*6=36\t6*7=42\t6*8=48\t6*9=54\t\n",
            "7*1=7\t7*2=14\t7*3=21\t7*4=28\t7*5=35\t7*6=42\t7*7=49\t7*8=56\t7*9=63\t\n",
            "8*1=8\t8*2=16\t8*3=24\t8*4=32\t8*5=40\t8*6=48\t8*7=56\t8*8=64\t8*9=72\t\n",
            "9*1=9\t9*2=18\t9*3=27\t9*4=36\t9*5=45\t9*6=54\t9*7=63\t9*8=72\t9*9=81\t\n"
          ]
        }
      ]
    },
    {
      "cell_type": "code",
      "source": [
        "for i in range(1,5):\n",
        "  if i==4:\n",
        "    break\n",
        "  print(i,end=' ')"
      ],
      "metadata": {
        "colab": {
          "base_uri": "https://localhost:8080/"
        },
        "id": "M0eJ50ttEaW3",
        "outputId": "d130b8e7-7ef1-4f83-829c-7e018bf2d991"
      },
      "execution_count": 18,
      "outputs": [
        {
          "output_type": "stream",
          "name": "stdout",
          "text": [
            "1 2 3 "
          ]
        }
      ]
    },
    {
      "cell_type": "code",
      "source": [
        "for i in range(1,5):\n",
        "  if i==4:\n",
        "    continue\n",
        "  print(i,end=' ')"
      ],
      "metadata": {
        "colab": {
          "base_uri": "https://localhost:8080/"
        },
        "id": "m3ksoMLoFLMA",
        "outputId": "7f7df506-3352-474a-9d35-bc07ead2a1d8"
      },
      "execution_count": 19,
      "outputs": [
        {
          "output_type": "stream",
          "name": "stdout",
          "text": [
            "1 2 3 "
          ]
        }
      ]
    },
    {
      "cell_type": "code",
      "source": [
        "a=0\n",
        "for i in '測試看看!':\n",
        "  a+=1\n",
        "  if i=='看':\n",
        "    break\n",
        "  print(i)\n",
        "print('迴圈結束')\n",
        "print('迴圈執行次數:',a)"
      ],
      "metadata": {
        "colab": {
          "base_uri": "https://localhost:8080/"
        },
        "id": "nVQh-1FvFym2",
        "outputId": "bb010c52-6f8f-4749-baa2-bdf8748d54c3"
      },
      "execution_count": 26,
      "outputs": [
        {
          "output_type": "stream",
          "name": "stdout",
          "text": [
            "測\n",
            "試\n",
            "迴圈結束\n",
            "迴圈執行次數: 3\n"
          ]
        }
      ]
    },
    {
      "cell_type": "code",
      "source": [
        "a=0\n",
        "for i in 'apple!':\n",
        "  a+=1\n",
        "  if i=='e':\n",
        "    break\n",
        "  print(i)\n",
        "print('迴圈結束')\n",
        "print('迴圈執行次數:',a)"
      ],
      "metadata": {
        "colab": {
          "base_uri": "https://localhost:8080/"
        },
        "id": "Z0Y4vrd_Hcgn",
        "outputId": "3c2ff011-548b-45f1-802a-9ac4c5983cdd"
      },
      "execution_count": 27,
      "outputs": [
        {
          "output_type": "stream",
          "name": "stdout",
          "text": [
            "a\n",
            "p\n",
            "p\n",
            "l\n",
            "迴圈結束\n",
            "迴圈執行次數: 5\n"
          ]
        }
      ]
    },
    {
      "cell_type": "code",
      "source": [
        "a=int(input('請輸入A的值'))\n",
        "b=int(input('請輸入B的值'))\n",
        "for i in range(1,(a*b)+1):\n",
        "  if i%a==0 and i%b==0:\n",
        "    break\n",
        "print(a,'和',b,'最小公倍數為:',i)"
      ],
      "metadata": {
        "colab": {
          "base_uri": "https://localhost:8080/"
        },
        "id": "_sWEUtRXHkSu",
        "outputId": "c3226921-0065-4271-9f01-bb9a2d34e555"
      },
      "execution_count": 52,
      "outputs": [
        {
          "output_type": "stream",
          "name": "stdout",
          "text": [
            "請輸入A的值9\n",
            "請輸入B的值12\n",
            "9 和 12 最小公倍數為: 36\n"
          ]
        }
      ]
    },
    {
      "cell_type": "code",
      "source": [
        "a=int(input('請輸入正整數:'))\n",
        "for i in range(1,a+1):\n",
        "  if i%5==0:\n",
        "    continue\n",
        "  print(i)"
      ],
      "metadata": {
        "colab": {
          "base_uri": "https://localhost:8080/"
        },
        "id": "yUuDCZntTlBD",
        "outputId": "fe000698-8f0a-4d42-f9c5-fada2c45e86e"
      },
      "execution_count": 88,
      "outputs": [
        {
          "output_type": "stream",
          "name": "stdout",
          "text": [
            "請輸入正整數:12\n",
            "1\n",
            "2\n",
            "3\n",
            "4\n",
            "6\n",
            "7\n",
            "8\n",
            "9\n",
            "11\n",
            "12\n"
          ]
        }
      ]
    },
    {
      "cell_type": "code",
      "source": [
        ""
      ],
      "metadata": {
        "id": "LkN2bpp9kVTF"
      },
      "execution_count": null,
      "outputs": []
    }
  ]
}